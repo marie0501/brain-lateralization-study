{
 "cells": [
  {
   "cell_type": "code",
   "execution_count": 2,
   "metadata": {},
   "outputs": [
    {
     "ename": "ImportError",
     "evalue": "attempted relative import with no known parent package",
     "output_type": "error",
     "traceback": [
      "\u001b[1;31m---------------------------------------------------------------------------\u001b[0m",
      "\u001b[1;31mImportError\u001b[0m                               Traceback (most recent call last)",
      "\u001b[1;32mc:\\Users\\Marie\\Documents\\thesis\\broderick\\notebooks\\plot.ipynb Cell 1\u001b[0m line \u001b[0;36m3\n\u001b[0;32m      <a href='vscode-notebook-cell:/c%3A/Users/Marie/Documents/thesis/broderick/notebooks/plot.ipynb#W0sZmlsZQ%3D%3D?line=0'>1</a>\u001b[0m \u001b[39mimport\u001b[39;00m \u001b[39mmatplotlib\u001b[39;00m\u001b[39m.\u001b[39;00m\u001b[39mpyplot\u001b[39;00m \u001b[39mas\u001b[39;00m \u001b[39mplt\u001b[39;00m\n\u001b[0;32m      <a href='vscode-notebook-cell:/c%3A/Users/Marie/Documents/thesis/broderick/notebooks/plot.ipynb#W0sZmlsZQ%3D%3D?line=1'>2</a>\u001b[0m \u001b[39mimport\u001b[39;00m \u001b[39mpandas\u001b[39;00m \u001b[39mas\u001b[39;00m \u001b[39mpd\u001b[39;00m\n\u001b[1;32m----> <a href='vscode-notebook-cell:/c%3A/Users/Marie/Documents/thesis/broderick/notebooks/plot.ipynb#W0sZmlsZQ%3D%3D?line=2'>3</a>\u001b[0m \u001b[39mfrom\u001b[39;00m \u001b[39m.\u001b[39;00m\u001b[39msrc\u001b[39;00m\u001b[39m.\u001b[39;00m\u001b[39manalysis\u001b[39;00m \u001b[39mimport\u001b[39;00m analysis\n\u001b[0;32m      <a href='vscode-notebook-cell:/c%3A/Users/Marie/Documents/thesis/broderick/notebooks/plot.ipynb#W0sZmlsZQ%3D%3D?line=5'>6</a>\u001b[0m df \u001b[39m=\u001b[39m analysis()\n\u001b[0;32m      <a href='vscode-notebook-cell:/c%3A/Users/Marie/Documents/thesis/broderick/notebooks/plot.ipynb#W0sZmlsZQ%3D%3D?line=7'>8</a>\u001b[0m \u001b[39m# Filtrar los datos\u001b[39;00m\n",
      "\u001b[1;31mImportError\u001b[0m: attempted relative import with no known parent package"
     ]
    }
   ],
   "source": [
    "import matplotlib.pyplot as plt\n",
    "import pandas as pd\n",
    "from src.analysis import analysis\n",
    "\n",
    "\n",
    "df = analysis()\n",
    "\n",
    "# Filtrar los datos\n",
    "datos_filtrados = df[(df['freq'] == 1)]\n",
    "\n",
    "# Crear dos DataFrames separados para \"side\" igual a 0 y 1\n",
    "datos_side_0 = datos_filtrados[datos_filtrados['side'] == 0]\n",
    "datos_side_1 = datos_filtrados[datos_filtrados['side'] == 1]\n",
    "\n",
    "\n",
    "# Configurar la figura con dos subgráficas\n",
    "fig, axs = plt.subplots(1, 2, figsize=(12, 6))\n",
    "\n",
    "# Graficar la variable \"psf\" para side = 0\n",
    "axs[0].scatter(datos_side_0.index, datos_side_0['psf'])\n",
    "axs[0].set_title('Variable \"psf\" con freq = 1 y side = 0')\n",
    "\n",
    "# Graficar la diferencia de \"psf\" para side = 0\n",
    "axs[1].scatter(datos_side_0.index, datos_side_1['psf'])\n",
    "axs[1].axhline(0, color='red', linestyle='--', linewidth=2)  # Línea horizontal en y=0\n",
    "axs[1].set_title('Variable de \"psf\" con freq = 1 y side = 1')\n",
    "\n",
    "# Ajustar el diseño para evitar superposiciones\n",
    "plt.tight_layout()\n",
    "\n",
    "# Mostrar el gráfico\n",
    "plt.show()\n",
    "\n",
    "\n"
   ]
  }
 ],
 "metadata": {
  "kernelspec": {
   "display_name": "Python 3",
   "language": "python",
   "name": "python3"
  },
  "language_info": {
   "codemirror_mode": {
    "name": "ipython",
    "version": 3
   },
   "file_extension": ".py",
   "mimetype": "text/x-python",
   "name": "python",
   "nbconvert_exporter": "python",
   "pygments_lexer": "ipython3",
   "version": "3.11.0"
  }
 },
 "nbformat": 4,
 "nbformat_minor": 2
}
