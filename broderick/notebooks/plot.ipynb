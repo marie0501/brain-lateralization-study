{
 "cells": [
  {
   "cell_type": "code",
   "execution_count": 1,
   "metadata": {},
   "outputs": [],
   "source": [
    "import matplotlib.pyplot as plt\n",
    "import pandas as pd\n",
    "import numpy as np\n",
    "import neuropythy as ny\n",
    "import ipyvolume as ipv"
   ]
  },
  {
   "cell_type": "code",
   "execution_count": 4,
   "metadata": {},
   "outputs": [
    {
     "name": "stdout",
     "output_type": "stream",
     "text": [
      "HOLAAAAA desde cortex_plot\n",
      "HOLAAAAA desde cortex_plot_3d\n",
      "mesh: [Mesh(<3D>, <240546 faces>, <120275 vertices>)]\n",
      "mesh len: 1\n",
      "HOLAAAAAAAAA desde cortex_plot_colors\n",
      "entro en try\n",
      "color: [[0.360741 0.785964 0.387814 1.      ]\n",
      " [0.127568 0.566949 0.550556 1.      ]\n",
      " [0.121831 0.589055 0.545623 1.      ]\n",
      " ...\n",
      " [0.267004 0.004874 0.329415 1.      ]\n",
      " [0.281412 0.155834 0.469201 1.      ]\n",
      " [0.267004 0.004874 0.329415 1.      ]]\n",
      "dentro de if de underlay\n",
      "HOLAAAA desde apply_cmap\n",
      "rgba: [[0.360741 0.785964 0.387814 1.      ]\n",
      " [0.127568 0.566949 0.550556 1.      ]\n",
      " [0.121831 0.589055 0.545623 1.      ]\n",
      " ...\n",
      " [0.267004 0.004874 0.329415 1.      ]\n",
      " [0.281412 0.155834 0.469201 1.      ]\n",
      " [0.267004 0.004874 0.329415 1.      ]]\n",
      "rgba len: 120275\n",
      "HOLAAAAA desde cortex_plot\n",
      "HOLAAAAA desde cortex_plot_3d\n",
      "mesh: [Mesh(<3D>, <241216 faces>, <120610 vertices>)]\n",
      "mesh len: 1\n",
      "HOLAAAAAAAAA desde cortex_plot_colors\n",
      "entro en try\n",
      "color: [[0.24607  0.73891  0.452024 1.      ]\n",
      " [0.134692 0.658636 0.517649 1.      ]\n",
      " [0.121831 0.589055 0.545623 1.      ]\n",
      " ...\n",
      " [0.267004 0.004874 0.329415 1.      ]\n",
      " [0.267004 0.004874 0.329415 1.      ]\n",
      " [0.993248 0.906157 0.143936 1.      ]]\n",
      "dentro de if de underlay\n",
      "HOLAAAA desde apply_cmap\n",
      "rgba: [[0.24607  0.73891  0.452024 1.      ]\n",
      " [0.134692 0.658636 0.517649 1.      ]\n",
      " [0.121831 0.589055 0.545623 1.      ]\n",
      " ...\n",
      " [0.267004 0.004874 0.329415 1.      ]\n",
      " [0.267004 0.004874 0.329415 1.      ]\n",
      " [0.993248 0.906157 0.143936 1.      ]]\n",
      "rgba len: 120610\n"
     ]
    },
    {
     "data": {
      "application/vnd.jupyter.widget-view+json": {
       "model_id": "15b9ae63cc0c4bc49bbec8f99f447632",
       "version_major": 2,
       "version_minor": 0
      },
      "text/plain": [
       "Container(figure=Figure(box_center=[0.5, 0.5, 0.5], box_size=[1.0, 1.0, 1.0], camera=PerspectiveCamera(fov=0.6…"
      ]
     },
     "metadata": {},
     "output_type": "display_data"
    },
    {
     "name": "stdout",
     "output_type": "stream",
     "text": [
      "HOLAAAAA desde cortex_plot\n",
      "HOLAAAAA desde cortex_plot_3d\n",
      "mesh: [Mesh(<3D>, <240546 faces>, <120275 vertices>)]\n",
      "mesh len: 1\n",
      "HOLAAAAAAAAA desde cortex_plot_colors\n",
      "entro en try\n",
      "color: [[0.360741 0.785964 0.387814 1.      ]\n",
      " [0.127568 0.566949 0.550556 1.      ]\n",
      " [0.121831 0.589055 0.545623 1.      ]\n",
      " ...\n",
      " [0.267004 0.004874 0.329415 1.      ]\n",
      " [0.281412 0.155834 0.469201 1.      ]\n",
      " [0.267004 0.004874 0.329415 1.      ]]\n",
      "dentro de if de underlay\n",
      "HOLAAAA desde apply_cmap\n",
      "rgba: [[0.360741 0.785964 0.387814 1.      ]\n",
      " [0.127568 0.566949 0.550556 1.      ]\n",
      " [0.121831 0.589055 0.545623 1.      ]\n",
      " ...\n",
      " [0.267004 0.004874 0.329415 1.      ]\n",
      " [0.281412 0.155834 0.469201 1.      ]\n",
      " [0.267004 0.004874 0.329415 1.      ]]\n",
      "rgba len: 120275\n"
     ]
    },
    {
     "data": {
      "application/vnd.jupyter.widget-view+json": {
       "model_id": "e5108f8936474e629c8f3c80f2a01d56",
       "version_major": 2,
       "version_minor": 0
      },
      "text/plain": [
       "Figure(box_center=[0.5, 0.5, 0.5], box_size=[1.0, 1.0, 1.0], camera=PerspectiveCamera(fov=0.644570721372708, p…"
      ]
     },
     "execution_count": 4,
     "metadata": {},
     "output_type": "execute_result"
    }
   ],
   "source": [
    "sub = ny.freesurfer_subject('F:\\\\ds003812-download\\\\derivatives\\\\freesurfer\\\\wlsubj001')\n",
    "betas = np.load(\"F:\\\\ds003812-download\\\\derivatives\\\\processed\\\\betas\\\\betas_sub-wlsubj001_ses-04_task-sfprescaled_results.mat.npy\")\n",
    "betas_freq = betas[0]\n",
    "colores_normalizados = (betas_freq - np.min(betas_freq)) / (np.max(betas_freq) - np.min(betas_freq))\n",
    "colores_rgba = plt.cm.viridis(betas_freq)\n",
    "\n",
    "fig = ipv.figure()\n",
    "\n",
    "ny.cortex_plot(sub.lh, surface='pial', figure=fig, color=colores_rgba[0:sub.lh.vertex_count])\n",
    "ny.cortex_plot(sub.rh, surface='pial', figure=fig, color=colores_rgba[sub.lh.vertex_count:])\n",
    "\n",
    "ipv.show()\n",
    "\n",
    "ny.cortex_plot(sub.lh, surface='inflated', color=colores_rgba[0:sub.lh.vertex_count])\n"
   ]
  },
  {
   "cell_type": "code",
   "execution_count": 23,
   "metadata": {},
   "outputs": [
    {
     "name": "stdout",
     "output_type": "stream",
     "text": [
      "HOLAAAAA desde cortex_plot\n",
      "HOLAAAAA desde cortex_plot_3d\n",
      "mesh: [Mesh(<3D>, <240546 faces>, <120275 vertices>)]\n",
      "mesh len: 1\n",
      "HOLAAAAAAAAA desde cortex_plot_colors\n",
      "entro en try\n",
      "color: [[0.993248 0.906157 0.143936 1.      ]\n",
      " [0.993248 0.906157 0.143936 1.      ]\n",
      " [0.993248 0.906157 0.143936 1.      ]\n",
      " ...\n",
      " [0.282884 0.13592  0.453427 1.      ]\n",
      " [0.246811 0.283237 0.535941 1.      ]\n",
      " [0.165117 0.467423 0.558141 1.      ]]\n",
      "dentro de if de underlay\n",
      "HOLAAAA desde apply_cmap\n",
      "rgba: [[0.993248 0.906157 0.143936 1.      ]\n",
      " [0.993248 0.906157 0.143936 1.      ]\n",
      " [0.993248 0.906157 0.143936 1.      ]\n",
      " ...\n",
      " [0.282884 0.13592  0.453427 1.      ]\n",
      " [0.246811 0.283237 0.535941 1.      ]\n",
      " [0.165117 0.467423 0.558141 1.      ]]\n",
      "rgba len: 120275\n",
      "HOLAAAAA desde cortex_plot\n",
      "HOLAAAAA desde cortex_plot_3d\n",
      "mesh: [Mesh(<3D>, <241216 faces>, <120610 vertices>)]\n",
      "mesh len: 1\n",
      "HOLAAAAAAAAA desde cortex_plot_colors\n",
      "entro en try\n",
      "color: [[0.153894 0.680203 0.504172 1.      ]\n",
      " [0.657642 0.860219 0.203082 1.      ]\n",
      " [0.993248 0.906157 0.143936 1.      ]\n",
      " ...\n",
      " [0.214298 0.355619 0.551184 1.      ]\n",
      " [0.1941   0.399323 0.555565 1.      ]\n",
      " [0.182256 0.426184 0.55712  1.      ]]\n",
      "dentro de if de underlay\n",
      "HOLAAAA desde apply_cmap\n",
      "rgba: [[0.153894 0.680203 0.504172 1.      ]\n",
      " [0.657642 0.860219 0.203082 1.      ]\n",
      " [0.993248 0.906157 0.143936 1.      ]\n",
      " ...\n",
      " [0.214298 0.355619 0.551184 1.      ]\n",
      " [0.1941   0.399323 0.555565 1.      ]\n",
      " [0.182256 0.426184 0.55712  1.      ]]\n",
      "rgba len: 120610\n"
     ]
    },
    {
     "data": {
      "application/vnd.jupyter.widget-view+json": {
       "model_id": "4230a85474474695bc920c1a3679eae0",
       "version_major": 2,
       "version_minor": 0
      },
      "text/plain": [
       "Container(figure=Figure(box_center=[0.5, 0.5, 0.5], box_size=[1.0, 1.0, 1.0], camera=PerspectiveCamera(fov=0.6…"
      ]
     },
     "metadata": {},
     "output_type": "display_data"
    },
    {
     "name": "stdout",
     "output_type": "stream",
     "text": [
      "HOLAAAAA desde cortex_plot\n",
      "HOLAAAAA desde cortex_plot_3d\n",
      "mesh: [Mesh(<3D>, <240546 faces>, <120275 vertices>)]\n",
      "mesh len: 1\n",
      "HOLAAAAAAAAA desde cortex_plot_colors\n",
      "entro en try\n",
      "color: [[0.993248 0.906157 0.143936 1.      ]\n",
      " [0.993248 0.906157 0.143936 1.      ]\n",
      " [0.993248 0.906157 0.143936 1.      ]\n",
      " ...\n",
      " [0.282884 0.13592  0.453427 1.      ]\n",
      " [0.246811 0.283237 0.535941 1.      ]\n",
      " [0.165117 0.467423 0.558141 1.      ]]\n",
      "dentro de if de underlay\n",
      "HOLAAAA desde apply_cmap\n",
      "rgba: [[0.993248 0.906157 0.143936 1.      ]\n",
      " [0.993248 0.906157 0.143936 1.      ]\n",
      " [0.993248 0.906157 0.143936 1.      ]\n",
      " ...\n",
      " [0.282884 0.13592  0.453427 1.      ]\n",
      " [0.246811 0.283237 0.535941 1.      ]\n",
      " [0.165117 0.467423 0.558141 1.      ]]\n",
      "rgba len: 120275\n"
     ]
    },
    {
     "data": {
      "application/vnd.jupyter.widget-view+json": {
       "model_id": "d8aea8af51144295b2a3882120729a2d",
       "version_major": 2,
       "version_minor": 0
      },
      "text/plain": [
       "Figure(box_center=[0.5, 0.5, 0.5], box_size=[1.0, 1.0, 1.0], camera=PerspectiveCamera(fov=0.644570721372708, p…"
      ]
     },
     "execution_count": 23,
     "metadata": {},
     "output_type": "execute_result"
    }
   ],
   "source": [
    "smoothed_betas = np.load(\"F:\\\\ds003812-download\\\\derivatives\\\\processed\\\\betas\\\\smoothed_betas_sub-wlsubj001_ses-04_task-sfprescaled_results.mat.npy\")\n",
    "\n",
    "colores_rgba = plt.cm.viridis(smoothed_betas[0])\n",
    "\n",
    "fig = ipv.figure()\n",
    "\n",
    "ny.cortex_plot(sub.lh, surface='pial', figure=fig, color=colores_rgba[0:sub.lh.vertex_count])\n",
    "ny.cortex_plot(sub.rh, surface='pial', figure=fig, color=colores_rgba[sub.lh.vertex_count:])\n",
    "\n",
    "ipv.show()\n",
    "\n",
    "ny.cortex_plot(sub.lh, surface='inflated', color=colores_rgba[0:sub.lh.vertex_count])\n"
   ]
  }
 ],
 "metadata": {
  "kernelspec": {
   "display_name": "Python 3",
   "language": "python",
   "name": "python3"
  },
  "language_info": {
   "codemirror_mode": {
    "name": "ipython",
    "version": 3
   },
   "file_extension": ".py",
   "mimetype": "text/x-python",
   "name": "python",
   "nbconvert_exporter": "python",
   "pygments_lexer": "ipython3",
   "version": "3.11.0"
  }
 },
 "nbformat": 4,
 "nbformat_minor": 2
}
