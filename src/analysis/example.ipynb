{
 "cells": [
  {
   "cell_type": "code",
   "execution_count": 4,
   "metadata": {},
   "outputs": [
    {
     "name": "stderr",
     "output_type": "stream",
     "text": [
      "/var/folders/kb/xjgrybvs26qc31wnr88cf93w0000gn/T/ipykernel_9388/4080736814.py:1: DeprecationWarning: \n",
      "Pyarrow will become a required dependency of pandas in the next major release of pandas (pandas 3.0),\n",
      "(to allow more performant data types, such as the Arrow string type, and better interoperability with other libraries)\n",
      "but was not found to be installed on your system.\n",
      "If this would cause problems for you,\n",
      "please provide us feedback at https://github.com/pandas-dev/pandas/issues/54466\n",
      "        \n",
      "  import pandas as pd\n"
     ]
    }
   ],
   "source": [
    "import pandas as pd"
   ]
  },
  {
   "cell_type": "code",
   "execution_count": 10,
   "metadata": {},
   "outputs": [
    {
     "data": {
      "text/html": [
       "<div>\n",
       "<style scoped>\n",
       "    .dataframe tbody tr th:only-of-type {\n",
       "        vertical-align: middle;\n",
       "    }\n",
       "\n",
       "    .dataframe tbody tr th {\n",
       "        vertical-align: top;\n",
       "    }\n",
       "\n",
       "    .dataframe thead th {\n",
       "        text-align: right;\n",
       "    }\n",
       "</style>\n",
       "<table border=\"1\" class=\"dataframe\">\n",
       "  <thead>\n",
       "    <tr style=\"text-align: right;\">\n",
       "      <th></th>\n",
       "      <th>x</th>\n",
       "      <th>y</th>\n",
       "      <th>eccentricity</th>\n",
       "      <th>angle</th>\n",
       "      <th>size</th>\n",
       "      <th>roi</th>\n",
       "      <th>subj</th>\n",
       "      <th>R2</th>\n",
       "      <th>contramass</th>\n",
       "    </tr>\n",
       "  </thead>\n",
       "  <tbody>\n",
       "    <tr>\n",
       "      <th>count</th>\n",
       "      <td>7551.000000</td>\n",
       "      <td>7551.000000</td>\n",
       "      <td>7551.000000</td>\n",
       "      <td>7551.000000</td>\n",
       "      <td>7551.000000</td>\n",
       "      <td>7551.0</td>\n",
       "      <td>7551.000000</td>\n",
       "      <td>7551.000000</td>\n",
       "      <td>7.551000e+03</td>\n",
       "    </tr>\n",
       "    <tr>\n",
       "      <th>mean</th>\n",
       "      <td>1.095205</td>\n",
       "      <td>0.780034</td>\n",
       "      <td>1.764135</td>\n",
       "      <td>90.407643</td>\n",
       "      <td>0.579836</td>\n",
       "      <td>7.0</td>\n",
       "      <td>86.845186</td>\n",
       "      <td>56.086421</td>\n",
       "      <td>1.188401e-01</td>\n",
       "    </tr>\n",
       "    <tr>\n",
       "      <th>std</th>\n",
       "      <td>0.886486</td>\n",
       "      <td>0.908622</td>\n",
       "      <td>0.659331</td>\n",
       "      <td>51.458549</td>\n",
       "      <td>0.272165</td>\n",
       "      <td>0.0</td>\n",
       "      <td>53.523344</td>\n",
       "      <td>4.904648</td>\n",
       "      <td>2.453984e-01</td>\n",
       "    </tr>\n",
       "    <tr>\n",
       "      <th>min</th>\n",
       "      <td>-2.184438</td>\n",
       "      <td>-2.428105</td>\n",
       "      <td>0.367977</td>\n",
       "      <td>0.048055</td>\n",
       "      <td>0.047459</td>\n",
       "      <td>7.0</td>\n",
       "      <td>1.000000</td>\n",
       "      <td>50.001274</td>\n",
       "      <td>8.420000e-78</td>\n",
       "    </tr>\n",
       "    <tr>\n",
       "      <th>25%</th>\n",
       "      <td>0.558409</td>\n",
       "      <td>0.191475</td>\n",
       "      <td>1.206840</td>\n",
       "      <td>46.754353</td>\n",
       "      <td>0.377802</td>\n",
       "      <td>7.0</td>\n",
       "      <td>38.000000</td>\n",
       "      <td>52.067894</td>\n",
       "      <td>2.789225e-03</td>\n",
       "    </tr>\n",
       "    <tr>\n",
       "      <th>50%</th>\n",
       "      <td>1.081893</td>\n",
       "      <td>0.710312</td>\n",
       "      <td>1.765600</td>\n",
       "      <td>90.263225</td>\n",
       "      <td>0.595303</td>\n",
       "      <td>7.0</td>\n",
       "      <td>75.000000</td>\n",
       "      <td>54.844643</td>\n",
       "      <td>2.062331e-02</td>\n",
       "    </tr>\n",
       "    <tr>\n",
       "      <th>75%</th>\n",
       "      <td>1.712510</td>\n",
       "      <td>1.456252</td>\n",
       "      <td>2.301458</td>\n",
       "      <td>135.563220</td>\n",
       "      <td>0.777916</td>\n",
       "      <td>7.0</td>\n",
       "      <td>138.000000</td>\n",
       "      <td>59.156376</td>\n",
       "      <td>9.287303e-02</td>\n",
       "    </tr>\n",
       "    <tr>\n",
       "      <th>max</th>\n",
       "      <td>2.974488</td>\n",
       "      <td>2.857670</td>\n",
       "      <td>2.996205</td>\n",
       "      <td>179.851715</td>\n",
       "      <td>1.794762</td>\n",
       "      <td>7.0</td>\n",
       "      <td>180.000000</td>\n",
       "      <td>76.230598</td>\n",
       "      <td>1.000000e+00</td>\n",
       "    </tr>\n",
       "  </tbody>\n",
       "</table>\n",
       "</div>"
      ],
      "text/plain": [
       "                 x            y  eccentricity        angle         size  \\\n",
       "count  7551.000000  7551.000000   7551.000000  7551.000000  7551.000000   \n",
       "mean      1.095205     0.780034      1.764135    90.407643     0.579836   \n",
       "std       0.886486     0.908622      0.659331    51.458549     0.272165   \n",
       "min      -2.184438    -2.428105      0.367977     0.048055     0.047459   \n",
       "25%       0.558409     0.191475      1.206840    46.754353     0.377802   \n",
       "50%       1.081893     0.710312      1.765600    90.263225     0.595303   \n",
       "75%       1.712510     1.456252      2.301458   135.563220     0.777916   \n",
       "max       2.974488     2.857670      2.996205   179.851715     1.794762   \n",
       "\n",
       "          roi         subj           R2    contramass  \n",
       "count  7551.0  7551.000000  7551.000000  7.551000e+03  \n",
       "mean      7.0    86.845186    56.086421  1.188401e-01  \n",
       "std       0.0    53.523344     4.904648  2.453984e-01  \n",
       "min       7.0     1.000000    50.001274  8.420000e-78  \n",
       "25%       7.0    38.000000    52.067894  2.789225e-03  \n",
       "50%       7.0    75.000000    54.844643  2.062331e-02  \n",
       "75%       7.0   138.000000    59.156376  9.287303e-02  \n",
       "max       7.0   180.000000    76.230598  1.000000e+00  "
      ]
     },
     "metadata": {},
     "output_type": "display_data"
    },
    {
     "name": "stdout",
     "output_type": "stream",
     "text": [
      "7551\n"
     ]
    }
   ],
   "source": [
    "# Example training data\n",
    "train_data = pd.read_csv('/Users/mariedelvalle/Downloads/HCP_hV4.csv')\n",
    "train_data_cleaned = train_data.dropna(how='any')\n",
    "train_data_cleaned = train_data_cleaned[train_data_cleaned['eccentricity'] < 3]\n",
    "train_data_cleaned = train_data_cleaned[train_data_cleaned['R2'] > 50]\n",
    "\n",
    "display(train_data_cleaned.describe())\n",
    "print(len(train_data_cleaned))\n"
   ]
  },
  {
   "cell_type": "code",
   "execution_count": 9,
   "metadata": {},
   "outputs": [
    {
     "name": "stdout",
     "output_type": "stream",
     "text": [
      "subj\n",
      "5      267\n",
      "28     256\n",
      "179    255\n",
      "75     203\n",
      "57     192\n",
      "      ... \n",
      "24       4\n",
      "148      4\n",
      "161      4\n",
      "178      4\n",
      "6        4\n",
      "Name: count, Length: 122, dtype: int64\n"
     ]
    }
   ],
   "source": [
    "subject_counts = train_data_cleaned['subj'].value_counts()\n",
    "print(subject_counts)"
   ]
  },
  {
   "cell_type": "code",
   "execution_count": null,
   "metadata": {},
   "outputs": [
    {
     "ename": "",
     "evalue": "",
     "output_type": "error",
     "traceback": [
      "\u001b[1;31mThe Kernel crashed while executing code in the current cell or a previous cell. \n",
      "\u001b[1;31mPlease review the code in the cell(s) to identify a possible cause of the failure. \n",
      "\u001b[1;31mClick <a href='https://aka.ms/vscodeJupyterKernelCrash'>here</a> for more info. \n",
      "\u001b[1;31mView Jupyter <a href='command:jupyter.viewOutput'>log</a> for further details."
     ]
    }
   ],
   "source": [
    "num_points = 100\n",
    "seed = 42\n",
    "dataset = generate_symmetric_points(num_points, seed)\n",
    "\n",
    "# Train the Gaussian Process model\n",
    "gp_model = train_gaussian_process(train_data_cleaned)\n",
    "\n",
    "# Predict values for the generated points\n",
    "predicted_dataset = predict_gaussian_process(gp_model, dataset)\n",
    "\n",
    "# Plot the original and predicted points\n",
    "plot_points(train_data_cleaned, predicted_dataset)"
   ]
  }
 ],
 "metadata": {
  "kernelspec": {
   "display_name": "Python 3",
   "language": "python",
   "name": "python3"
  },
  "language_info": {
   "codemirror_mode": {
    "name": "ipython",
    "version": 3
   },
   "file_extension": ".py",
   "mimetype": "text/x-python",
   "name": "python",
   "nbconvert_exporter": "python",
   "pygments_lexer": "ipython3",
   "version": "3.12.1"
  }
 },
 "nbformat": 4,
 "nbformat_minor": 2
}
