{
 "cells": [
  {
   "cell_type": "code",
   "execution_count": 1,
   "metadata": {},
   "outputs": [
    {
     "name": "stderr",
     "output_type": "stream",
     "text": [
      "/var/folders/kb/xjgrybvs26qc31wnr88cf93w0000gn/T/ipykernel_1214/1644224066.py:1: DeprecationWarning: \n",
      "Pyarrow will become a required dependency of pandas in the next major release of pandas (pandas 3.0),\n",
      "(to allow more performant data types, such as the Arrow string type, and better interoperability with other libraries)\n",
      "but was not found to be installed on your system.\n",
      "If this would cause problems for you,\n",
      "please provide us feedback at https://github.com/pandas-dev/pandas/issues/54466\n",
      "        \n",
      "  import pandas as pd\n"
     ]
    }
   ],
   "source": [
    "import pandas as pd\n",
    "import os\n",
    "import gzip\n",
    "import nibabel as nib\n",
    "import re\n",
    "import numpy as np"
   ]
  },
  {
   "cell_type": "markdown",
   "metadata": {},
   "source": [
    "# Create table"
   ]
  },
  {
   "cell_type": "code",
   "execution_count": null,
   "metadata": {},
   "outputs": [],
   "source": [
    "dicc = {'ecc':[],'area':[],'R2':[],'rfsize':[],'ang':[], 'subj':[], 'hem':[]}\n",
    "\n",
    "pattern = r'^(lh|rh)\\.fit1_(\\w+)\\.mgz$'\n",
    "\n",
    "path_area =['/Users/mariedelvalle/Documents/HCP/atlasmgz/lh.Wang2015.mgz', '/Users/mariedelvalle/Documents/HCP/atlasmgz/rh.Wang2015.mgz']\n",
    "area = []\n",
    "\n",
    "for p in path_area:\n",
    "    data = nib.load(p)\n",
    "    data = np.squeeze(data.get_fdata())\n",
    "\n",
    "    area.extend(data)\n",
    "\n",
    "path = \"/Users/mariedelvalle/Documents/HCP/prfresultsmgz\"\n",
    "\n",
    "subjects =  os.listdir(path)\n",
    "\n",
    "for i,sub in enumerate(subjects):\n",
    "\n",
    "    if sub.isdigit() and len(sub) == 6:\n",
    "\n",
    "        print(f\"{sub} - {i}/{len(subjects)}\")\n",
    "\n",
    "        sub_files = sorted(os.listdir(f\"{path}/{sub}\"))\n",
    "\n",
    "        for sub_file in sub_files:\n",
    "            match = re.match(pattern, sub_file)\n",
    "\n",
    "            if match:\n",
    "                hem = match.group(1)\n",
    "                prop = match.group(2)\n",
    "\n",
    "                data = nib.load(f'{path}/{sub}/{sub_file}')\n",
    "                data = np.squeeze(data.get_fdata())\n",
    "\n",
    "                if prop in dicc.keys():\n",
    "                    dicc[prop].extend(data)\n",
    "    \n",
    "        dicc['subj'].extend([sub]* (2* data.shape[0]))\n",
    "        dicc['hem'].extend([0]*data.shape[0])\n",
    "        dicc['hem'].extend([1]*data.shape[0])\n",
    "        dicc['area'].extend(area)\n",
    "\n",
    "df = pd.DataFrame(dicc)\n",
    "df = df.dropna()\n",
    "\n",
    "# Guardar el DataFrame como un archivo CSV\n",
    "df.to_csv('HCP_prfresults_no_nan.csv', index=False)\n",
    "\n"
   ]
  },
  {
   "cell_type": "markdown",
   "metadata": {},
   "source": [
    "# Change Wang atlas"
   ]
  },
  {
   "cell_type": "code",
   "execution_count": 14,
   "metadata": {},
   "outputs": [
    {
     "name": "stdout",
     "output_type": "stream",
     "text": [
      ">f4\n",
      ">f4\n"
     ]
    },
    {
     "name": "stderr",
     "output_type": "stream",
     "text": [
      "/var/folders/kb/xjgrybvs26qc31wnr88cf93w0000gn/T/ipykernel_1214/902383926.py:22: RuntimeWarning: invalid value encountered in cast\n",
      "  atlas_rh.extend(np.round(data).astype(int))\n",
      "/var/folders/kb/xjgrybvs26qc31wnr88cf93w0000gn/T/ipykernel_1214/902383926.py:20: RuntimeWarning: invalid value encountered in cast\n",
      "  atlas_lh.extend(np.round(data).astype(int))\n"
     ]
    }
   ],
   "source": [
    "path = '/Users/mariedelvalle/Documents/HCP/atlasmgz'\n",
    "files = os.listdir(path)\n",
    "\n",
    "pattern = r'^(lh|rh)\\.Wang2015\\.mgz$'\n",
    "\n",
    "atlas_lh = []\n",
    "atlas_rh = []\n",
    "\n",
    "\n",
    "for file in files:\n",
    "    \n",
    "    match = re.match(pattern, file)\n",
    "    if match:\n",
    "        hem = match.group(1)\n",
    "        data = nib.load(f'{path}/{file}')\n",
    "        print(data.get_data_dtype())\n",
    "        data = np.squeeze(data.get_fdata())\n",
    "\n",
    "        if hem == 'lh':\n",
    "            atlas_lh.extend(np.round(data).astype(int))\n",
    "        else:\n",
    "            atlas_rh.extend(np.round(data).astype(int))\n",
    "\n",
    "\n",
    "# Change rois\n",
    "\n",
    "mapping = {0:0, 1: 1, 2: 1, 3: 2, 4: 2, 5: 3, 6: 3}\n",
    "\n",
    "for i in range(4,23):\n",
    "    mapping[i + 3] = i\n",
    "\n",
    "\n",
    "new_atlas_lh = np.vectorize(lambda x: mapping[x])(atlas_lh)\n",
    "new_atlas_rh = np.vectorize(lambda x: mapping[x])(atlas_rh)\n",
    "\n",
    "image_lh = nib.Nifti1Image(new_atlas_lh.reshape(163842, 1, 1).astype(float), np.eye(4))\n",
    "image_rh = nib.Nifti1Image(new_atlas_rh.reshape(163842, 1, 1).astype(float), np.eye(4))\n",
    "\n",
    "\n",
    "# Guardar la imagen como archivo .mgz\n",
    "nib.save(image_lh, 'lh.Wang2015_Modif.mgz')\n",
    "nib.save(image_rh, 'rh.Wang2015_Modif.mgz')\n",
    "        \n",
    "\n"
   ]
  },
  {
   "cell_type": "code",
   "execution_count": 20,
   "metadata": {},
   "outputs": [
    {
     "name": "stdout",
     "output_type": "stream",
     "text": [
      "(163842, 1, 1)\n",
      "(163842,)\n",
      "[ 0.  1.  2.  3.  4.  5.  6.  7.  8.  9. 10. 11. 12. 13. 14. 15. 16. 17.\n",
      " 18. 19. 20. 21. 22.]\n"
     ]
    }
   ],
   "source": [
    "data = nib.load('lh.Wang2015_Modif.mgz')\n",
    "print(data.get_fdata().shape)      \n",
    "data = np.squeeze(data.get_fdata())\n",
    "\n",
    "print(data.shape)\n",
    "print(np.unique(data))\n"
   ]
  }
 ],
 "metadata": {
  "kernelspec": {
   "display_name": "Python 3",
   "language": "python",
   "name": "python3"
  },
  "language_info": {
   "codemirror_mode": {
    "name": "ipython",
    "version": 3
   },
   "file_extension": ".py",
   "mimetype": "text/x-python",
   "name": "python",
   "nbconvert_exporter": "python",
   "pygments_lexer": "ipython3",
   "version": "3.undefined.undefined"
  }
 },
 "nbformat": 4,
 "nbformat_minor": 2
}
